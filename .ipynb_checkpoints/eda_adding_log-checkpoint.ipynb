{
 "cells": [
  {
   "cell_type": "code",
   "execution_count": 1,
   "metadata": {
    "collapsed": true
   },
   "outputs": [],
   "source": [
    "train = pd.read_pickle('train1.pkl')\n",
    "train_old = train.copy()"
   ]
  },
  {
   "cell_type": "code",
   "execution_count": 2,
   "metadata": {},
   "outputs": [
    {
     "name": "stdout",
     "output_type": "stream",
     "text": [
      "<class 'pandas.core.frame.DataFrame'>\n",
      "RangeIndex: 1460 entries, 0 to 1459\n",
      "Columns: 102 entries, Id to MiscVal_is_0\n",
      "dtypes: bool(21), float64(3), int64(20), object(58)\n",
      "memory usage: 953.9+ KB\n"
     ]
    }
   ],
   "source": [
    "train.info()"
   ]
  },
  {
   "cell_type": "code",
   "execution_count": 3,
   "metadata": {
    "collapsed": true
   },
   "outputs": [],
   "source": [
    "bool_feats = list(train.select_dtypes(include=['bool']).columns)"
   ]
  },
  {
   "cell_type": "code",
   "execution_count": 4,
   "metadata": {
    "collapsed": true
   },
   "outputs": [],
   "source": [
    "object_feats = list(train.select_dtypes(include='object').columns)"
   ]
  },
  {
   "cell_type": "code",
   "execution_count": 5,
   "metadata": {
    "collapsed": true
   },
   "outputs": [],
   "source": [
    "real_feats = list(train.select_dtypes(include=['float','int']).columns)\n",
    "for col in real_feats:\n",
    "    train[col+'_log'] = np.log(1 + train[col])"
   ]
  },
  {
   "cell_type": "code",
   "execution_count": 6,
   "metadata": {
    "collapsed": true
   },
   "outputs": [],
   "source": [
    "real_feats = list(train.select_dtypes(include=['float','int']).columns)"
   ]
  },
  {
   "cell_type": "code",
   "execution_count": 7,
   "metadata": {},
   "outputs": [
    {
     "name": "stdout",
     "output_type": "stream",
     "text": [
      "<class 'pandas.core.frame.DataFrame'>\n",
      "RangeIndex: 1460 entries, 0 to 1459\n",
      "Columns: 125 entries, Id to SalePrice_log\n",
      "dtypes: bool(21), float64(26), int64(20), object(58)\n",
      "memory usage: 1.2+ MB\n"
     ]
    }
   ],
   "source": [
    "train.info()"
   ]
  },
  {
   "cell_type": "code",
   "execution_count": 14,
   "metadata": {},
   "outputs": [
    {
     "data": {
      "text/plain": [
       "Index([u'Street_is_Pave', u'Utilities_is_AllPub', u'LandSlope_is_Gtl',\n",
       "       u'Condition2_is_Norm', u'RoofMatl_is_CompShg', u'BsmtCond_is_TA',\n",
       "       u'Heating_is_GasA', u'CentralAir_is_Y', u'Electrical_is_SBrkr',\n",
       "       u'LowQualFinSF_is_0', u'BsmtHalfBath_is_0', u'KitchenAbvGr_is_1',\n",
       "       u'Functional_is_Typ', u'GarageQual_is_TA', u'GarageCond_is_TA',\n",
       "       u'PavedDrive_is_Y', u'3SsnPorch_is_0', u'ScreenPorch_is_0',\n",
       "       u'PoolArea_is_0', u'MiscFeature_is_Shed', u'MiscVal_is_0', u'Id',\n",
       "       u'LotFrontage', u'LotArea', u'MasVnrArea', u'BsmtFinSF1', u'BsmtFinSF2',\n",
       "       u'BsmtUnfSF', u'TotalBsmtSF', u'1stFlrSF', u'2ndFlrSF', u'LowQualFinSF',\n",
       "       u'GrLivArea', u'KitchenAbvGr', u'GarageYrBlt', u'GarageArea',\n",
       "       u'WoodDeckSF', u'OpenPorchSF', u'EnclosedPorch', u'3SsnPorch',\n",
       "       u'ScreenPorch', u'PoolArea', u'MiscVal', u'SalePrice', u'Id_log',\n",
       "       u'LotFrontage_log', u'LotArea_log', u'MasVnrArea_log',\n",
       "       u'BsmtFinSF1_log', u'BsmtFinSF2_log', u'BsmtUnfSF_log',\n",
       "       u'TotalBsmtSF_log', u'1stFlrSF_log', u'2ndFlrSF_log',\n",
       "       u'LowQualFinSF_log', u'GrLivArea_log', u'KitchenAbvGr_log',\n",
       "       u'GarageYrBlt_log', u'GarageArea_log', u'WoodDeckSF_log',\n",
       "       u'OpenPorchSF_log', u'EnclosedPorch_log', u'3SsnPorch_log',\n",
       "       u'ScreenPorch_log', u'PoolArea_log', u'MiscVal_log', u'SalePrice_log'],\n",
       "      dtype='object')"
      ]
     },
     "execution_count": 14,
     "metadata": {},
     "output_type": "execute_result"
    }
   ],
   "source": [
    "train[bool_feats + real_feats].columns"
   ]
  },
  {
   "cell_type": "code",
   "execution_count": 23,
   "metadata": {
    "scrolled": true
   },
   "outputs": [
    {
     "data": {
      "text/plain": [
       "LotFrontage        0.351799\n",
       "MasVnrArea         0.477493\n",
       "BsmtFinSF1         0.386420\n",
       "TotalBsmtSF        0.613581\n",
       "1stFlrSF           0.605852\n",
       "2ndFlrSF           0.319334\n",
       "GrLivArea          0.708624\n",
       "GarageYrBlt        0.486362\n",
       "GarageArea         0.623431\n",
       "WoodDeckSF         0.324413\n",
       "OpenPorchSF        0.315856\n",
       "SalePrice          1.000000\n",
       "LotFrontage_log    0.349480\n",
       "LotArea_log        0.388528\n",
       "MasVnrArea_log     0.410944\n",
       "TotalBsmtSF_log    0.325883\n",
       "1stFlrSF_log       0.591299\n",
       "GrLivArea_log      0.695147\n",
       "GarageYrBlt_log    0.484807\n",
       "GarageArea_log     0.371597\n",
       "WoodDeckSF_log     0.321450\n",
       "OpenPorchSF_log    0.429970\n",
       "SalePrice_log      0.948374\n",
       "LotArea            0.263843\n",
       "Name: SalePrice, dtype: float64"
      ]
     },
     "execution_count": 23,
     "metadata": {},
     "output_type": "execute_result"
    }
   ],
   "source": [
    "train.corr()['SalePrice'].loc[list(train.corr().index[train.corr()['SalePrice'] > 0.30]) + ['LotArea']]"
   ]
  },
  {
   "cell_type": "code",
   "execution_count": 24,
   "metadata": {
    "collapsed": true
   },
   "outputs": [],
   "source": [
    "train.to_pickle('train_log.pkl')"
   ]
  },
  {
   "cell_type": "code",
   "execution_count": null,
   "metadata": {
    "collapsed": true
   },
   "outputs": [],
   "source": []
  }
 ],
 "metadata": {
  "anaconda-cloud": {},
  "kernelspec": {
   "display_name": "Python [conda env:py27]",
   "language": "python",
   "name": "conda-env-py27-py"
  },
  "language_info": {
   "codemirror_mode": {
    "name": "ipython",
    "version": 2
   },
   "file_extension": ".py",
   "mimetype": "text/x-python",
   "name": "python",
   "nbconvert_exporter": "python",
   "pygments_lexer": "ipython2",
   "version": "2.7.12"
  }
 },
 "nbformat": 4,
 "nbformat_minor": 1
}
