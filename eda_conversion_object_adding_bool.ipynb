{
 "cells": [
  {
   "cell_type": "code",
   "execution_count": 1,
   "metadata": {
    "collapsed": true
   },
   "outputs": [],
   "source": [
    "train = pd.read_csv('./train.csv')"
   ]
  },
  {
   "cell_type": "code",
   "execution_count": 2,
   "metadata": {
    "collapsed": true
   },
   "outputs": [],
   "source": [
    "train_old = pd.read_csv('./train.csv')"
   ]
  },
  {
   "cell_type": "code",
   "execution_count": 3,
   "metadata": {},
   "outputs": [
    {
     "data": {
      "text/plain": [
       "(1460, 81)"
      ]
     },
     "execution_count": 3,
     "metadata": {},
     "output_type": "execute_result"
    }
   ],
   "source": [
    "train.shape"
   ]
  },
  {
   "cell_type": "code",
   "execution_count": 4,
   "metadata": {},
   "outputs": [
    {
     "data": {
      "text/plain": [
       "True"
      ]
     },
     "execution_count": 4,
     "metadata": {},
     "output_type": "execute_result"
    }
   ],
   "source": [
    "train.isnull().values.any()"
   ]
  },
  {
   "cell_type": "code",
   "execution_count": 5,
   "metadata": {
    "collapsed": true
   },
   "outputs": [],
   "source": [
    "missing_features = train.columns[train.isnull().sum() > 0]"
   ]
  },
  {
   "cell_type": "code",
   "execution_count": 6,
   "metadata": {
    "collapsed": true
   },
   "outputs": [],
   "source": [
    "def create_bool_feature(df,col,val):\n",
    "    vals = list()\n",
    "    for i, row in df.iterrows():\n",
    "        if ((type(row[col]) is float) | (type(row[col]) is int)):\n",
    "            if np.isnan(row[col]):\n",
    "                vals.append(row[col])\n",
    "            elif row[col] == val:\n",
    "                vals.append(True)\n",
    "            else:\n",
    "                vals.append(False)\n",
    "        else:\n",
    "            if pd.isnull(row[col]):\n",
    "                vals.append(row[col])\n",
    "            elif row[col] == val:\n",
    "                vals.append(True)\n",
    "            else:\n",
    "                vals.append(False)\n",
    "    df[col+'_is_'+ str(val)] = vals\n",
    "    df[col+'_is_'+ str(val)] = df[col+'_is_'+ str(val)].astype(bool)\n",
    "    return df\n",
    "\n",
    "def convert_object(df,col):\n",
    "    vals = list()\n",
    "    for i, row in df.iterrows():\n",
    "        if ((type(row[col]) is float) | (type(row[col]) is int)):\n",
    "            if np.isnan(row[col]):\n",
    "                vals.append(row[col])\n",
    "            else:\n",
    "                vals.append(str(row[col]))\n",
    "        else:\n",
    "            if pd.isnull(row[col]):\n",
    "                vals.append(row[col])\n",
    "            else:\n",
    "                vals.append(str(row[col]))\n",
    "    df[col] = vals\n",
    "    return df"
   ]
  },
  {
   "cell_type": "code",
   "execution_count": 7,
   "metadata": {
    "collapsed": true
   },
   "outputs": [],
   "source": [
    "convert_object_real = ['GarageCars','Fireplaces','TotRmsAbvGrd','BedroomAbvGr','HalfBath','FullBath','BsmtHalfBath','BsmtFullBath',\n",
    "                 'OverallCond','OverallQual','MSSubClass','YrSold','MoSold','YearRemodAdd','YearBuilt']\n",
    "for col in convert_object_real:\n",
    "    train = convert_object(train,col)"
   ]
  },
  {
   "cell_type": "code",
   "execution_count": 8,
   "metadata": {},
   "outputs": [],
   "source": [
    "low_variance_features = [col for col in train.columns if train[col].value_counts(normalize=True).iloc[0] > 0.9]"
   ]
  },
  {
   "cell_type": "code",
   "execution_count": 9,
   "metadata": {},
   "outputs": [],
   "source": [
    "for col in low_variance_features:\n",
    "    freq_value = train[col].value_counts(normalize=True).index[0]\n",
    "    train = create_bool_feature(train,col,freq_value)"
   ]
  },
  {
   "cell_type": "code",
   "execution_count": 13,
   "metadata": {},
   "outputs": [
    {
     "data": {
      "text/plain": [
       "<matplotlib.axes._subplots.AxesSubplot at 0x10f1f7510>"
      ]
     },
     "execution_count": 13,
     "metadata": {},
     "output_type": "execute_result"
    },
    {
     "data": {
      "image/png": "[encoded data removed]",
      "text/plain": [
       "<matplotlib.figure.Figure at 0x106abbf50>"
      ]
     },
     "metadata": {},
     "output_type": "display_data"
    }
   ],
   "source": [
    "train.SalePrice.plot(kind='hist')"
   ]
  },
  {
   "cell_type": "code",
   "execution_count": 14,
   "metadata": {},
   "outputs": [
    {
     "data": {
      "text/plain": [
       "<matplotlib.axes._subplots.AxesSubplot at 0x10f2c3c90>"
      ]
     },
     "execution_count": 14,
     "metadata": {},
     "output_type": "execute_result"
    },
    {
     "data": {
      "image/png": "[encoded data removed]",
      "text/plain": [
       "<matplotlib.figure.Figure at 0x10e86b490>"
      ]
     },
     "metadata": {},
     "output_type": "display_data"
    }
   ],
   "source": [
    "np.log(train.SalePrice).plot(kind='hist')"
   ]
  },
  {
   "cell_type": "code",
   "execution_count": 15,
   "metadata": {
    "collapsed": true
   },
   "outputs": [],
   "source": [
    "train.to_pickle('train1.pkl')"
   ]
  },
  {
   "cell_type": "code",
   "execution_count": null,
   "metadata": {
    "collapsed": true
   },
   "outputs": [],
   "source": []
  }
 ],
 "metadata": {
  "kernelspec": {
   "display_name": "Python [conda env:py27]",
   "language": "python",
   "name": "conda-env-py27-py"
  },
  "language_info": {
   "codemirror_mode": {
    "name": "ipython",
    "version": 2
   },
   "file_extension": ".py",
   "mimetype": "text/x-python",
   "name": "python",
   "nbconvert_exporter": "python",
   "pygments_lexer": "ipython2",
   "version": "2.7.12"
  }
 },
 "nbformat": 4,
 "nbformat_minor": 1
}
