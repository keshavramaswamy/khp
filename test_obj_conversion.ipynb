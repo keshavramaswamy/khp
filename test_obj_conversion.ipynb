{
 "cells": [
  {
   "cell_type": "code",
   "execution_count": 1,
   "metadata": {
    "collapsed": true
   },
   "outputs": [],
   "source": [
    "test = pd.read_csv('./test.csv')"
   ]
  },
  {
   "cell_type": "code",
   "execution_count": 2,
   "metadata": {},
   "outputs": [
    {
     "data": {
      "text/plain": [
       "(1459, 80)"
      ]
     },
     "execution_count": 2,
     "metadata": {},
     "output_type": "execute_result"
    }
   ],
   "source": [
    "test.shape"
   ]
  },
  {
   "cell_type": "code",
   "execution_count": 3,
   "metadata": {},
   "outputs": [
    {
     "data": {
      "text/plain": [
       "True"
      ]
     },
     "execution_count": 3,
     "metadata": {},
     "output_type": "execute_result"
    }
   ],
   "source": [
    "test.isnull().values.any()"
   ]
  },
  {
   "cell_type": "code",
   "execution_count": 5,
   "metadata": {},
   "outputs": [],
   "source": [
    "missing_features = test.columns[test.isnull().sum() > 0]"
   ]
  },
  {
   "cell_type": "code",
   "execution_count": 6,
   "metadata": {
    "collapsed": true
   },
   "outputs": [],
   "source": [
    "def create_bool_feature(df,col,val):\n",
    "    vals = list()\n",
    "    for i, row in df.iterrows():\n",
    "        if ((type(row[col]) is float) | (type(row[col]) is int)):\n",
    "            if np.isnan(row[col]):\n",
    "                vals.append(row[col])\n",
    "            elif row[col] == val:\n",
    "                vals.append(True)\n",
    "            else:\n",
    "                vals.append(False)\n",
    "        else:\n",
    "            if pd.isnull(row[col]):\n",
    "                vals.append(row[col])\n",
    "            elif row[col] == val:\n",
    "                vals.append(True)\n",
    "            else:\n",
    "                vals.append(False)\n",
    "    df[col+'_is_'+ str(val)] = vals\n",
    "    df[col+'_is_'+ str(val)] = df[col+'_is_'+ str(val)].astype(bool)\n",
    "    return df\n",
    "\n",
    "def convert_object(df,col):\n",
    "    vals = list()\n",
    "    for i, row in df.iterrows():\n",
    "        if ((type(row[col]) is float) | (type(row[col]) is int)):\n",
    "            if np.isnan(row[col]):\n",
    "                vals.append(row[col])\n",
    "            else:\n",
    "                vals.append(str(row[col]))\n",
    "        else:\n",
    "            if pd.isnull(row[col]):\n",
    "                vals.append(row[col])\n",
    "            else:\n",
    "                vals.append(str(row[col]))\n",
    "    df[col] = vals\n",
    "    return df"
   ]
  },
  {
   "cell_type": "code",
   "execution_count": 7,
   "metadata": {
    "collapsed": true
   },
   "outputs": [],
   "source": [
    "convert_object_real = ['GarageCars','Fireplaces','TotRmsAbvGrd','BedroomAbvGr','HalfBath','FullBath','BsmtHalfBath','BsmtFullBath',\n",
    "                 'OverallCond','OverallQual','MSSubClass','YrSold','MoSold','YearRemodAdd','YearBuilt']\n",
    "for col in convert_object_real:\n",
    "    test = convert_object(test,col)"
   ]
  },
  {
   "cell_type": "code",
   "execution_count": 8,
   "metadata": {},
   "outputs": [
    {
     "data": {
      "text/plain": [
       "(1459, 80)"
      ]
     },
     "execution_count": 8,
     "metadata": {},
     "output_type": "execute_result"
    }
   ],
   "source": [
    "test.shape"
   ]
  },
  {
   "cell_type": "code",
   "execution_count": 9,
   "metadata": {
    "collapsed": true
   },
   "outputs": [],
   "source": [
    "test.to_pickle('test1.pkl')"
   ]
  },
  {
   "cell_type": "code",
   "execution_count": null,
   "metadata": {
    "collapsed": true
   },
   "outputs": [],
   "source": []
  }
 ],
 "metadata": {
  "anaconda-cloud": {},
  "kernelspec": {
   "display_name": "Python [conda env:py27]",
   "language": "python",
   "name": "conda-env-py27-py"
  },
  "language_info": {
   "codemirror_mode": {
    "name": "ipython",
    "version": 2
   },
   "file_extension": ".py",
   "mimetype": "text/x-python",
   "name": "python",
   "nbconvert_exporter": "python",
   "pygments_lexer": "ipython2",
   "version": "2.7.12"
  }
 },
 "nbformat": 4,
 "nbformat_minor": 1
}
